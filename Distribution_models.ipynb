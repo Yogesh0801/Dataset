{
  "nbformat": 4,
  "nbformat_minor": 0,
  "metadata": {
    "colab": {
      "provenance": [],
      "authorship_tag": "ABX9TyPpBaRWwDQYLGR8fjD4wsfN",
      "include_colab_link": true
    },
    "kernelspec": {
      "name": "python3",
      "display_name": "Python 3"
    },
    "language_info": {
      "name": "python"
    }
  },
  "cells": [
    {
      "cell_type": "markdown",
      "metadata": {
        "id": "view-in-github",
        "colab_type": "text"
      },
      "source": [
        "<a href=\"https://colab.research.google.com/github/Yogesh0801/Dataset/blob/main/Distribution_models.ipynb\" target=\"_parent\"><img src=\"https://colab.research.google.com/assets/colab-badge.svg\" alt=\"Open In Colab\"/></a>"
      ]
    },
    {
      "cell_type": "markdown",
      "source": [
        "# Normal Distribution"
      ],
      "metadata": {
        "id": "wRMdWJyt3_v3"
      }
    },
    {
      "cell_type": "code",
      "execution_count": 76,
      "metadata": {
        "id": "_3mAYU4q3syD"
      },
      "outputs": [],
      "source": [
        "import scipy.stats\n",
        "import numpy as np\n",
        "import matplotlib.pyplot as plt\n"
      ]
    },
    {
      "cell_type": "code",
      "source": [
        "np.random.seed(1234)"
      ],
      "metadata": {
        "id": "Ig0ZpyjL4kQp"
      },
      "execution_count": 77,
      "outputs": []
    },
    {
      "cell_type": "code",
      "source": [
        "#Generating sample data\n",
        "samples = np.random.lognormal(mean=1,sigma=0.4,size=10000)"
      ],
      "metadata": {
        "id": "IveGs1Oo4qHH"
      },
      "execution_count": 78,
      "outputs": []
    },
    {
      "cell_type": "code",
      "source": [
        "samples"
      ],
      "metadata": {
        "colab": {
          "base_uri": "https://localhost:8080/"
        },
        "id": "Ojh6QqFp93LM",
        "outputId": "6894eb64-ea4b-4df9-e0e4-4ed688cdd28d"
      },
      "execution_count": 79,
      "outputs": [
        {
          "output_type": "execute_result",
          "data": {
            "text/plain": [
              "array([3.28239739, 1.68811027, 4.82148893, ..., 1.78428134, 2.22759552,\n",
              "       2.45370106])"
            ]
          },
          "metadata": {},
          "execution_count": 79
        }
      ]
    },
    {
      "cell_type": "code",
      "source": [
        "shape,loc,scale = scipy.stats.lognorm.fit(samples,floc=0)"
      ],
      "metadata": {
        "id": "XPdcO6Y95B5e"
      },
      "execution_count": 80,
      "outputs": []
    },
    {
      "cell_type": "code",
      "source": [
        "num_bins = 50"
      ],
      "metadata": {
        "id": "wLDnE7r-5zCY"
      },
      "execution_count": 81,
      "outputs": []
    },
    {
      "cell_type": "code",
      "source": [
        "counts,edges,patches = plt.hist(samples,bins=num_bins,color='r')"
      ],
      "metadata": {
        "colab": {
          "base_uri": "https://localhost:8080/",
          "height": 430
        },
        "id": "F9vrX6QK7v1h",
        "outputId": "a0b15c66-5aa6-4b12-d9e2-dde75515c2f7"
      },
      "execution_count": 82,
      "outputs": [
        {
          "output_type": "display_data",
          "data": {
            "text/plain": [
              "<Figure size 640x480 with 1 Axes>"
            ],
            "image/png": "[encoded data removed]"
          },
          "metadata": {}
        }
      ]
    },
    {
      "cell_type": "markdown",
      "source": [
        "# binomial distribution"
      ],
      "metadata": {
        "id": "ghKK-OT5_0Ke"
      }
    },
    {
      "cell_type": "code",
      "source": [
        "import seaborn as sns\n",
        "\n",
        "from scipy.stats import binom"
      ],
      "metadata": {
        "id": "5_Nf_CjJ8C7-"
      },
      "execution_count": 83,
      "outputs": []
    },
    {
      "cell_type": "code",
      "source": [
        "data=binom.rvs(n=17,p=0.7,loc=0,size=1010)"
      ],
      "metadata": {
        "id": "1fFldx0y_vHc"
      },
      "execution_count": 84,
      "outputs": []
    },
    {
      "cell_type": "code",
      "source": [
        "data"
      ],
      "metadata": {
        "colab": {
          "base_uri": "https://localhost:8080/"
        },
        "id": "8eK598iSCOzw",
        "outputId": "6509b284-4cc1-4563-99f8-ab522d796a57"
      },
      "execution_count": 85,
      "outputs": [
        {
          "output_type": "execute_result",
          "data": {
            "text/plain": [
              "array([11, 10, 12, ..., 10, 13, 14])"
            ]
          },
          "metadata": {},
          "execution_count": 85
        }
      ]
    },
    {
      "cell_type": "code",
      "source": [
        "ax = sns.distplot(data,kde=True,color='pink',hist_kws={'linewidth':22,'alpha':0.77})"
      ],
      "metadata": {
        "colab": {
          "base_uri": "https://localhost:8080/",
          "height": 621
        },
        "id": "OaVxkeEKCQP_",
        "outputId": "dc79f8a4-bb5c-48fe-8f86-0d787d1d253a"
      },
      "execution_count": 86,
      "outputs": [
        {
          "output_type": "stream",
          "name": "stderr",
          "text": [
            "<ipython-input-86-4bfbececaa7d>:1: UserWarning: \n",
            "\n",
            "`distplot` is a deprecated function and will be removed in seaborn v0.14.0.\n",
            "\n",
            "Please adapt your code to use either `displot` (a figure-level function with\n",
            "similar flexibility) or `histplot` (an axes-level function for histograms).\n",
            "\n",
            "For a guide to updating your code to use the new functions, please see\n",
            "https://gist.github.com/mwaskom/de44147ed2974457ad6372750bbe5751\n",
            "\n",
            "  ax = sns.distplot(data,kde=True,color='pink',hist_kws={'linewidth':22,'alpha':0.77})\n"
          ]
        },
        {
          "output_type": "display_data",
          "data": {
            "text/plain": [
              "<Figure size 640x480 with 1 Axes>"
            ],
            "image/png": "[encoded data removed]"
          },
          "metadata": {}
        }
      ]
    },
    {
      "cell_type": "markdown",
      "source": [
        "# Poisson Distribution"
      ],
      "metadata": {
        "id": "tmDJgpaZI3L_"
      }
    },
    {
      "cell_type": "code",
      "source": [
        "s=np.random.poisson(5,1000)"
      ],
      "metadata": {
        "id": "Ej3D6hazD8vO"
      },
      "execution_count": 93,
      "outputs": []
    },
    {
      "cell_type": "code",
      "source": [
        "plt.hist(s,16,color='g')"
      ],
      "metadata": {
        "colab": {
          "base_uri": "https://localhost:8080/",
          "height": 534
        },
        "id": "eYQvSN6FLsDk",
        "outputId": "782ff29d-b3b8-4a58-c5c3-9bccdffa07e8"
      },
      "execution_count": 94,
      "outputs": [
        {
          "output_type": "execute_result",
          "data": {
            "text/plain": [
              "(array([  8.,  37.,  85., 135., 197., 178., 135.,   0., 106.,  54.,  30.,\n",
              "         21.,   9.,   4.,   0.,   1.]),\n",
              " array([ 0.   ,  0.875,  1.75 ,  2.625,  3.5  ,  4.375,  5.25 ,  6.125,\n",
              "         7.   ,  7.875,  8.75 ,  9.625, 10.5  , 11.375, 12.25 , 13.125,\n",
              "        14.   ]),\n",
              " <BarContainer object of 16 artists>)"
            ]
          },
          "metadata": {},
          "execution_count": 94
        },
        {
          "output_type": "display_data",
          "data": {
            "text/plain": [
              "<Figure size 640x480 with 1 Axes>"
            ],
            "image/png": "[encoded data removed]"
          },
          "metadata": {}
        }
      ]
    },
    {
      "cell_type": "markdown",
      "source": [
        "## Bernoulli Distribution"
      ],
      "metadata": {
        "id": "p5iV-K4UL8SR"
      }
    },
    {
      "cell_type": "code",
      "source": [
        "s=np.random.binomial(10,0.5,1000)\n"
      ],
      "metadata": {
        "id": "NUkcASgSLy5z"
      },
      "execution_count": 97,
      "outputs": []
    },
    {
      "cell_type": "code",
      "source": [
        "s"
      ],
      "metadata": {
        "colab": {
          "base_uri": "https://localhost:8080/"
        },
        "id": "p0_mFqTsNOlp",
        "outputId": "05ff847b-4127-4684-e941-df1b3afcd18b"
      },
      "execution_count": 98,
      "outputs": [
        {
          "output_type": "execute_result",
          "data": {
            "text/plain": [
              "array([6, 7, 4, 3, 7, 6, 4, 6, 3, 6, 5, 4, 4, 7, 7, 2, 7, 4, 7, 6, 5, 5,\n",
              "       8, 5, 4, 6, 4, 5, 5, 4, 3, 4, 5, 6, 3, 3, 4, 5, 6, 3, 3, 7, 5, 7,\n",
              "       5, 5, 7, 6, 6, 5, 4, 3, 5, 5, 5, 5, 5, 4, 3, 5, 4, 7, 4, 7, 3, 4,\n",
              "       5, 5, 6, 7, 3, 6, 4, 7, 7, 5, 6, 7, 3, 5, 2, 4, 4, 6, 5, 5, 5, 5,\n",
              "       3, 5, 5, 5, 4, 5, 5, 3, 4, 7, 5, 6, 6, 4, 6, 8, 3, 6, 6, 8, 6, 4,\n",
              "       4, 5, 5, 3, 8, 5, 6, 4, 5, 2, 5, 5, 3, 4, 9, 5, 5, 5, 7, 7, 5, 4,\n",
              "       6, 7, 5, 4, 3, 5, 6, 6, 4, 6, 5, 5, 1, 7, 5, 5, 4, 4, 5, 3, 4, 4,\n",
              "       5, 4, 3, 6, 6, 2, 7, 4, 4, 6, 6, 4, 5, 5, 8, 6, 8, 2, 3, 5, 4, 7,\n",
              "       3, 6, 6, 3, 3, 5, 6, 8, 6, 5, 6, 6, 4, 4, 6, 4, 5, 3, 6, 7, 5, 4,\n",
              "       7, 4, 3, 4, 6, 4, 3, 6, 9, 5, 4, 3, 5, 4, 7, 3, 4, 3, 7, 4, 5, 4,\n",
              "       5, 2, 6, 7, 7, 5, 6, 6, 6, 5, 4, 5, 2, 3, 4, 6, 3, 6, 2, 4, 4, 5,\n",
              "       5, 2, 6, 5, 4, 7, 6, 8, 7, 4, 5, 4, 5, 7, 9, 5, 5, 6, 6, 6, 7, 4,\n",
              "       6, 3, 4, 3, 6, 6, 2, 6, 5, 5, 7, 8, 5, 7, 5, 3, 5, 4, 7, 6, 3, 6,\n",
              "       2, 5, 3, 4, 5, 3, 5, 7, 6, 8, 8, 5, 4, 4, 6, 3, 4, 4, 5, 4, 4, 8,\n",
              "       3, 4, 1, 1, 5, 8, 5, 6, 5, 5, 6, 3, 3, 3, 6, 4, 2, 4, 4, 5, 5, 6,\n",
              "       3, 8, 6, 6, 1, 4, 3, 7, 4, 4, 5, 7, 6, 6, 6, 1, 6, 5, 4, 3, 6, 4,\n",
              "       6, 5, 4, 5, 7, 5, 4, 2, 4, 4, 7, 5, 5, 4, 4, 2, 5, 4, 9, 5, 4, 4,\n",
              "       6, 5, 3, 8, 4, 6, 4, 6, 6, 4, 6, 5, 6, 6, 6, 4, 4, 5, 4, 5, 5, 5,\n",
              "       7, 6, 3, 5, 6, 5, 6, 8, 7, 6, 6, 3, 6, 4, 4, 5, 7, 5, 5, 6, 5, 5,\n",
              "       4, 3, 3, 3, 7, 3, 6, 2, 2, 4, 6, 6, 3, 6, 3, 6, 4, 6, 6, 3, 6, 3,\n",
              "       4, 7, 5, 5, 3, 3, 5, 6, 2, 4, 7, 6, 6, 6, 5, 4, 4, 5, 5, 3, 4, 6,\n",
              "       6, 4, 6, 5, 6, 5, 4, 6, 6, 4, 7, 5, 5, 6, 5, 5, 7, 5, 4, 8, 6, 4,\n",
              "       2, 3, 7, 6, 5, 6, 7, 6, 8, 7, 6, 5, 4, 4, 7, 6, 6, 4, 3, 5, 5, 4,\n",
              "       1, 5, 6, 5, 6, 4, 3, 6, 4, 5, 6, 4, 5, 6, 4, 5, 6, 6, 7, 3, 2, 4,\n",
              "       6, 5, 2, 6, 4, 2, 4, 2, 5, 5, 6, 6, 5, 5, 4, 6, 6, 4, 4, 5, 4, 4,\n",
              "       5, 4, 3, 7, 5, 8, 5, 4, 6, 6, 6, 5, 5, 7, 6, 4, 4, 7, 5, 4, 4, 5,\n",
              "       8, 3, 6, 6, 4, 4, 4, 6, 6, 7, 3, 6, 5, 8, 5, 7, 5, 5, 5, 4, 3, 6,\n",
              "       5, 1, 4, 7, 3, 6, 5, 7, 7, 8, 6, 3, 4, 2, 7, 5, 3, 7, 3, 5, 5, 6,\n",
              "       7, 9, 6, 3, 4, 4, 4, 5, 5, 8, 5, 5, 2, 5, 5, 4, 4, 5, 5, 6, 5, 5,\n",
              "       2, 7, 8, 6, 6, 5, 4, 6, 6, 3, 6, 2, 5, 6, 2, 6, 5, 3, 5, 4, 2, 6,\n",
              "       8, 6, 7, 4, 3, 6, 5, 5, 4, 4, 7, 8, 4, 5, 4, 5, 7, 4, 4, 4, 4, 5,\n",
              "       3, 5, 6, 5, 5, 5, 4, 5, 4, 5, 4, 7, 5, 6, 5, 8, 4, 4, 7, 5, 7, 7,\n",
              "       5, 1, 7, 6, 5, 4, 3, 5, 5, 7, 7, 4, 7, 5, 6, 5, 3, 6, 5, 8, 5, 4,\n",
              "       2, 3, 4, 2, 6, 4, 4, 6, 3, 6, 5, 4, 5, 5, 5, 6, 3, 8, 6, 4, 4, 7,\n",
              "       6, 5, 2, 6, 5, 4, 5, 6, 6, 5, 4, 4, 3, 4, 5, 6, 4, 7, 4, 6, 3, 5,\n",
              "       3, 3, 6, 5, 4, 4, 7, 6, 4, 4, 4, 3, 4, 4, 5, 6, 6, 4, 3, 5, 3, 4,\n",
              "       5, 3, 4, 8, 3, 4, 4, 7, 5, 3, 6, 6, 5, 6, 2, 8, 6, 7, 3, 2, 2, 4,\n",
              "       8, 4, 5, 1, 5, 5, 6, 5, 2, 5, 5, 6, 5, 6, 4, 3, 4, 7, 7, 5, 7, 2,\n",
              "       2, 5, 7, 2, 3, 6, 5, 5, 2, 3, 4, 6, 5, 6, 4, 5, 6, 6, 6, 5, 6, 5,\n",
              "       5, 6, 4, 6, 5, 8, 8, 5, 4, 4, 4, 6, 4, 4, 8, 4, 4, 6, 4, 7, 3, 6,\n",
              "       6, 6, 4, 8, 7, 3, 4, 2, 5, 4, 6, 5, 6, 7, 4, 4, 3, 6, 4, 3, 3, 5,\n",
              "       4, 7, 5, 6, 5, 4, 7, 8, 3, 3, 6, 9, 4, 4, 3, 4, 9, 4, 3, 5, 6, 2,\n",
              "       4, 5, 5, 4, 4, 4, 6, 4, 5, 4, 2, 5, 6, 4, 5, 6, 5, 2, 3, 7, 9, 7,\n",
              "       1, 3, 4, 9, 6, 3, 6, 6, 6, 3, 6, 5, 4, 6, 4, 5, 5, 8, 4, 7, 6, 6,\n",
              "       6, 5, 7, 5, 6, 6, 6, 7, 6, 5, 8, 5, 3, 6, 2, 5, 7, 6, 2, 3, 5, 5,\n",
              "       4, 7, 4, 5, 4, 5, 6, 2, 6, 3])"
            ]
          },
          "metadata": {},
          "execution_count": 98
        }
      ]
    },
    {
      "cell_type": "code",
      "source": [
        "plt.hist(s,16,color='brown')"
      ],
      "metadata": {
        "colab": {
          "base_uri": "https://localhost:8080/",
          "height": 517
        },
        "id": "nojd6cNKNO6-",
        "outputId": "8fd43970-8e68-4926-8e07-1651bd075066"
      },
      "execution_count": 100,
      "outputs": [
        {
          "output_type": "execute_result",
          "data": {
            "text/plain": [
              "(array([ 10.,   0.,  46.,   0., 112.,   0., 222.,   0., 248.,   0., 217.,\n",
              "          0.,  97.,   0.,  39.,   9.]),\n",
              " array([1. , 1.5, 2. , 2.5, 3. , 3.5, 4. , 4.5, 5. , 5.5, 6. , 6.5, 7. ,\n",
              "        7.5, 8. , 8.5, 9. ]),\n",
              " <BarContainer object of 16 artists>)"
            ]
          },
          "metadata": {},
          "execution_count": 100
        },
        {
          "output_type": "display_data",
          "data": {
            "text/plain": [
              "<Figure size 640x480 with 1 Axes>"
            ],
            "image/png": "[encoded data removed]"
          },
          "metadata": {}
        }
      ]
    }
  ]
}